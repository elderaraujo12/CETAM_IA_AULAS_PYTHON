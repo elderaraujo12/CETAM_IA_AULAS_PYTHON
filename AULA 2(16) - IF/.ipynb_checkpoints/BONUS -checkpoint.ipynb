{
 "cells": [
  {
   "cell_type": "code",
   "execution_count": 12,
   "id": "ab8c465b",
   "metadata": {},
   "outputs": [
    {
     "name": "stdout",
     "output_type": "stream",
     "text": [
      "VOCE NÃO CHEGOOU LÁ, O bonus do funcionario 1 foi  0\n",
      "VOCE CHEGOU LÁ, O bonus do funcionario 2 foi  277.0 reais\n",
      "VOCE NÃO CHEGOOU LÁ, O bonus do funcionario 3 foi  0\n"
     ]
    }
   ],
   "source": [
    "vendas_funcionario1 = 100\n",
    "vendas_funcionario2 = 2770\n",
    "vendas_funcionario3 = 700\n",
    "meta = 1000\n",
    "\n",
    "#crie seu código aqui\n",
    "if vendas_funcionario1 >= meta:\n",
    "    bonus = vendas_funcionario1*0.1\n",
    "    print(\"VOCE CHEGOU LÁ, O bonus do funcionario 1 foi{} reais\".format(bonus))\n",
    "else:\n",
    "    print(\"VOCE NÃO CHEGOOU LÁ, O bonus do funcionario 1 foi  {}\".format(0))\n",
    "\n",
    "if vendas_funcionario2 >= meta:\n",
    "    bonus = vendas_funcionario2*0.1\n",
    "    print(\"VOCE CHEGOU LÁ, O bonus do funcionario 2 foi  {} reais\".format(bonus))\n",
    "else:\n",
    "    print(\"VOCE NÃO CHEGOOU LÁ, O bonus do funcionario 2 foi {}\".format(0))\n",
    "    \n",
    "if vendas_funcionario3 >= meta:\n",
    "    bonus = vendas_funcionario3*0.1\n",
    "    print(\"O bonus do funcionario 3 foi {} reais\".format(bonus))\n",
    "else:\n",
    "    print(\"VOCE NÃO CHEGOOU LÁ, O bonus do funcionario 3 foi  {}\".format(0))\n",
    " \n",
    " "
   ]
  },
  {
   "cell_type": "code",
   "execution_count": 59,
   "id": "aab81553",
   "metadata": {},
   "outputs": [
    {
     "name": "stdout",
     "output_type": "stream",
     "text": [
      "      SERA QUE VOCE GANHOU ???  \n",
      "O bonus do funcionario 1 é de 0\n",
      "O bonus do funcionario 2 é de 177.0\n",
      "O bonus do funcionario 3 é de 0\n"
     ]
    }
   ],
   "source": [
    "vendas_funcionario1 = 100\n",
    "vendas_funcionario2 = 1770\n",
    "vendas_funcionario3 = 700\n",
    "meta = 1000\n",
    "\n",
    "print(\"      SERA QUE VOCE GANHOU ???  \")\n",
    "if vendas_funcionario1 >= meta:\n",
    "    if vendas_funcionario1 >= 2*meta:\n",
    "        bonus = vendas_funcionario1 * 0.15\n",
    "        print(\"O bonus do funcionario 1 é de {}\".format( bonus))\n",
    "    else:\n",
    "        bonus = vendas_funcionario1 * 0.1\n",
    "        print(\"O bonus do funcionario 1 é de {}\".format( bonus))\n",
    "else:\n",
    "    bonus=0\n",
    "    print(\"O bonus do funcionario 1 é de {}\".format( 0 ))\n",
    "    \n",
    "if vendas_funcionario2 >= meta:\n",
    "    if vendas_funcionario2 >= 2*meta:\n",
    "        bonus = vendas_funcionario2 * 0.15\n",
    "        print(\"O bonus do funcionario 2 é de {} \".format (bonus ))\n",
    "    else:\n",
    "        bonus = vendas_funcionario2 * 0.1\n",
    "        print( \"O bonus do funcionario 2 é de {}\".format( bonus  ))\n",
    "else:\n",
    "    bonus= 0\n",
    "    print(\"O bonus do funcionario 2 é de {}\".format(0))\n",
    "    \n",
    "    \n",
    "if vendas_funcionario3 >= meta:\n",
    "    if vendas_funcionario3 >= 2*meta:\n",
    "        bonus = vendas_funcionario3 * 0.15\n",
    "        print(\"O bonus do funcionario 3 é de {}\".format( bonus ))\n",
    "    else:\n",
    "        bonus = vendas_funcionario3 * 0.1\n",
    "        print(\"O bonus do funcionario 3 é de {}\".format( bonus ))\n",
    "else:\n",
    "    bonus=0\n",
    "    print(\"O bonus do funcionario 3 é de {}\".format( 0 ))\n",
    "    \n",
    "\n",
    "\n",
    "    "
   ]
  },
  {
   "cell_type": "code",
   "execution_count": null,
   "id": "591ec047",
   "metadata": {},
   "outputs": [],
   "source": []
  }
 ],
 "metadata": {
  "kernelspec": {
   "display_name": "Python 3 (ipykernel)",
   "language": "python",
   "name": "python3"
  },
  "language_info": {
   "codemirror_mode": {
    "name": "ipython",
    "version": 3
   },
   "file_extension": ".py",
   "mimetype": "text/x-python",
   "name": "python",
   "nbconvert_exporter": "python",
   "pygments_lexer": "ipython3",
   "version": "3.9.7"
  }
 },
 "nbformat": 4,
 "nbformat_minor": 5
}
