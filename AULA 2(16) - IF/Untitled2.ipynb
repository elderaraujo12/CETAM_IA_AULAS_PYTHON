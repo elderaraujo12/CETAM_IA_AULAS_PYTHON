{
 "cells": [
  {
   "cell_type": "code",
   "execution_count": 14,
   "id": "230427e6",
   "metadata": {},
   "outputs": [
    {
     "ename": "SyntaxError",
     "evalue": "invalid syntax (Temp/ipykernel_8768/1760775124.py, line 3)",
     "output_type": "error",
     "traceback": [
      "\u001b[1;36m  File \u001b[1;32m\"C:\\Users\\aluno15\\AppData\\Local\\Temp/ipykernel_8768/1760775124.py\"\u001b[1;36m, line \u001b[1;32m3\u001b[0m\n\u001b[1;33m    m  a   y   c   o   n   s  u   e   l  1   1   5   5   @   g  m  a  i  l  .  c   o  m\u001b[0m\n\u001b[1;37m       ^\u001b[0m\n\u001b[1;31mSyntaxError\u001b[0m\u001b[1;31m:\u001b[0m invalid syntax\n"
     ]
    }
   ],
   "source": [
    "texto: mayconsuel1155@gmail.com\n",
    "-23 -22 -21 -20 -19 -18 -17 -16 -15 -14 -12 -12 -11 -10 -9  -8 -7 -6 -5 -4 -3 -2 -1\n",
    "m  a   y   c   o   n   s  u   e   l  1   1   5   5   @   g  m  a  i  l  .  c   o  m\n",
    "0  1   2   3   4   5   6   7  8   9  10  11  12  13  14  15 16 17 18 19 20 21  22  23\n",
    "email= mayconsuel1155@gmail.com\n",
    "nome= maycon suel\n",
    "print(email[:-10])\n",
    "print(email[0:7])\n",
    "print(email[3:7])"
   ]
  },
  {
   "cell_type": "code",
   "execution_count": 15,
   "id": "00735786",
   "metadata": {},
   "outputs": [
    {
     "ename": "NameError",
     "evalue": "name 'e' is not defined",
     "output_type": "error",
     "traceback": [
      "\u001b[1;31m---------------------------------------------------------------------------\u001b[0m",
      "\u001b[1;31mNameError\u001b[0m                                 Traceback (most recent call last)",
      "\u001b[1;32m~\\AppData\\Local\\Temp/ipykernel_8768/4161206231.py\u001b[0m in \u001b[0;36m<module>\u001b[1;34m\u001b[0m\n\u001b[1;32m----> 1\u001b[1;33m \u001b[0mprint\u001b[0m\u001b[1;33m(\u001b[0m\u001b[1;34m\"tamanho de e-mail\"\u001b[0m\u001b[1;33m+\u001b[0m \u001b[0mstr\u001b[0m\u001b[1;33m(\u001b[0m\u001b[0mlen\u001b[0m\u001b[1;33m(\u001b[0m\u001b[0me\u001b[0m\u001b[1;33m-\u001b[0m\u001b[0mmail\u001b[0m\u001b[1;33m)\u001b[0m\u001b[1;33m)\u001b[0m\u001b[1;33m+\u001b[0m\u001b[1;34m\"caracteres\"\u001b[0m\u001b[1;33m)\u001b[0m\u001b[1;33m\u001b[0m\u001b[1;33m\u001b[0m\u001b[0m\n\u001b[0m",
      "\u001b[1;31mNameError\u001b[0m: name 'e' is not defined"
     ]
    }
   ],
   "source": [
    "print(\"tamanho de e-mail\"+ str(len(e-mail))+\"caracteres\")"
   ]
  },
  {
   "cell_type": "code",
   "execution_count": null,
   "id": "36715a81",
   "metadata": {},
   "outputs": [],
   "source": []
  },
  {
   "cell_type": "code",
   "execution_count": null,
   "id": "0f52982d",
   "metadata": {},
   "outputs": [],
   "source": [
    "                                                                                                                                                                                                                                                                                                                                                                                                                                                                                                                                                                                                                                                                                                                                                                                             "
   ]
  }
 ],
 "metadata": {
  "kernelspec": {
   "display_name": "Python 3 (ipykernel)",
   "language": "python",
   "name": "python3"
  },
  "language_info": {
   "codemirror_mode": {
    "name": "ipython",
    "version": 3
   },
   "file_extension": ".py",
   "mimetype": "text/x-python",
   "name": "python",
   "nbconvert_exporter": "python",
   "pygments_lexer": "ipython3",
   "version": "3.9.7"
  }
 },
 "nbformat": 4,
 "nbformat_minor": 5
}
