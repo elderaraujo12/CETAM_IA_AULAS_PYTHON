{
 "cells": [
  {
   "cell_type": "code",
   "execution_count": 1,
   "id": "eed7acd9",
   "metadata": {},
   "outputs": [
    {
     "name": "stdout",
     "output_type": "stream",
     "text": [
      "mayconsuel1155@gmail.com maycon suel\n"
     ]
    }
   ],
   "source": [
    "email= 'mayconsuel1155@gmail.com'\n",
    "nome='maycon suel'\n",
    "print(email,(nome))"
   ]
  },
  {
   "cell_type": "code",
   "execution_count": 2,
   "id": "a07ede19",
   "metadata": {},
   "outputs": [
    {
     "name": "stdout",
     "output_type": "stream",
     "text": [
      "m\n"
     ]
    }
   ],
   "source": [
    "print(email[0])"
   ]
  },
  {
   "cell_type": "code",
   "execution_count": 4,
   "id": "de4c4a4f",
   "metadata": {},
   "outputs": [
    {
     "name": "stdout",
     "output_type": "stream",
     "text": [
      "maycon\n"
     ]
    }
   ],
   "source": [
    "#pegando os caracteres de um alista de caracteres\n",
    "print(email[0:6])"
   ]
  },
  {
   "cell_type": "code",
   "execution_count": 8,
   "id": "22526b03",
   "metadata": {},
   "outputs": [
    {
     "name": "stdout",
     "output_type": "stream",
     "text": [
      "@\n"
     ]
    }
   ],
   "source": [
    "print(email[14])"
   ]
  },
  {
   "cell_type": "code",
   "execution_count": null,
   "id": "2a4a594f",
   "metadata": {},
   "outputs": [],
   "source": []
  }
 ],
 "metadata": {
  "kernelspec": {
   "display_name": "Python 3 (ipykernel)",
   "language": "python",
   "name": "python3"
  },
  "language_info": {
   "codemirror_mode": {
    "name": "ipython",
    "version": 3
   },
   "file_extension": ".py",
   "mimetype": "text/x-python",
   "name": "python",
   "nbconvert_exporter": "python",
   "pygments_lexer": "ipython3",
   "version": "3.9.7"
  }
 },
 "nbformat": 4,
 "nbformat_minor": 5
}
