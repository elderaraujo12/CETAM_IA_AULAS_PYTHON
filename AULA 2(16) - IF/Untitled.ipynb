{
 "cells": [
  {
   "cell_type": "code",
   "execution_count": 1,
   "id": "77d057ca",
   "metadata": {},
   "outputs": [
    {
     "ename": "SyntaxError",
     "evalue": "invalid syntax (Temp/ipykernel_9212/3720192524.py, line 1)",
     "output_type": "error",
     "traceback": [
      "\u001b[1;36m  File \u001b[1;32m\"C:\\Users\\aluno15\\AppData\\Local\\Temp/ipykernel_9212/3720192524.py\"\u001b[1;36m, line \u001b[1;32m1\u001b[0m\n\u001b[1;33m    Uma solução mais pythonica seria:\u001b[0m\n\u001b[1;37m        ^\u001b[0m\n\u001b[1;31mSyntaxError\u001b[0m\u001b[1;31m:\u001b[0m invalid syntax\n"
     ]
    }
   ],
   "source": [
    "\n",
    "Uma solução mais pythonica seria:\n",
    "\n",
    "def validate(cpf: str) -> bool:\n",
    "\n",
    "    \"\"\" Efetua a validação do CPF, tanto formatação quando dígito verificadores.\n",
    "\n",
    "    Parâmetros:\n",
    "        cpf (str): CPF a ser validado\n",
    "\n",
    "    Retorno:\n",
    "        bool:\n",
    "            - Falso, quando o CPF não possuir o formato 999.999.999-99;\n",
    "            - Falso, quando o CPF não possuir 11 caracteres numéricos;\n",
    "            - Falso, quando os dígitos verificadores forem inválidos;\n",
    "            - Verdadeiro, caso contrário.\n",
    "\n",
    "    Exemplos:\n",
    "\n",
    "    >>> validate('529.982.247-25')\n",
    "    True\n",
    "    >>> validate('52998224725')\n",
    "    False\n",
    "    >>> validate('111.111.111-11')\n",
    "    False\n",
    "    \"\"\"\n",
    "\n",
    "    # Verifica a formatação do CPF\n",
    "    if not re.match(r'\\d{3}\\.\\d{3}\\.\\d{3}-\\d{2}', cpf):\n",
    "        return False\n",
    "\n",
    "    # Obtém apenas os números do CPF, ignorando pontuações\n",
    "    numbers = [int(digit) for digit in cpf if digit.isdigit()]\n",
    "\n",
    "    # Verifica se o CPF possui 11 números ou se todos são iguais:\n",
    "    if len(numbers) != 11 or len(set(numbers)) == 1:\n",
    "        return False\n",
    "\n",
    "    # Validação do primeiro dígito verificador:\n",
    "    sum_of_products = sum(a*b for a, b in zip(numbers[0:9], range(10, 1, -1)))\n",
    "    expected_digit = (sum_of_products * 10 % 11) % 10\n",
    "    if numbers[9] != expected_digit:\n",
    "        return False\n",
    "\n",
    "    # Validação do segundo dígito verificador:\n",
    "    sum_of_products = sum(a*b for a, b in zip(numbers[0:10], range(11, 1, -1)))\n",
    "    expected_digit = (sum_of_products * 10 % 11) % 10\n",
    "    if numbers[10] != expected_digit:\n",
    "        return False"
   ]
  },
  {
   "cell_type": "code",
   "execution_count": null,
   "id": "f7af4e64",
   "metadata": {},
   "outputs": [],
   "source": []
  }
 ],
 "metadata": {
  "kernelspec": {
   "display_name": "Python 3 (ipykernel)",
   "language": "python",
   "name": "python3"
  },
  "language_info": {
   "codemirror_mode": {
    "name": "ipython",
    "version": 3
   },
   "file_extension": ".py",
   "mimetype": "text/x-python",
   "name": "python",
   "nbconvert_exporter": "python",
   "pygments_lexer": "ipython3",
   "version": "3.9.7"
  }
 },
 "nbformat": 4,
 "nbformat_minor": 5
}
